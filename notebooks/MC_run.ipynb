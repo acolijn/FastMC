{
 "cells": [
  {
   "cell_type": "markdown",
   "metadata": {},
   "source": [
    "## Test of accelerated Monte Carlo ##"
   ]
  },
  {
   "cell_type": "code",
   "execution_count": 1,
   "metadata": {},
   "outputs": [],
   "source": [
    "import sys\n",
    "sys.path.insert(0, \"../python/\")\n",
    "\n",
    "from particle import particle\n",
    "from physics import em_physics\n",
    "from cylinder import cylinder\n",
    "\n",
    "import matplotlib.pyplot as plt\n",
    "import numpy as np\n",
    "from numba import jit\n",
    "import pandas as pd\n",
    "\n",
    "import json\n"
   ]
  },
  {
   "cell_type": "markdown",
   "metadata": {},
   "source": [
    "### Define the Geometry ###"
   ]
  },
  {
   "cell_type": "code",
   "execution_count": 2,
   "metadata": {},
   "outputs": [
    {
     "name": "stdout",
     "output_type": "stream",
     "text": [
      "cylinder::__init__ Define cylinder with R= 50  and height= 100\n",
      "cylinder::__init__ Define cylinder with R= 49  and height= 99\n"
     ]
    }
   ],
   "source": [
    "# define the geometry\n",
    "radius = 50 # cm\n",
    "height = 100 #cm\n",
    "cryostat = cylinder(R=radius,h=height)\n",
    "\n",
    "#radius = 40 # cm\n",
    "#height = 80 #cm\n",
    "radius = 49 #cm\n",
    "height = 99 #cm\n",
    "fiducial = cylinder(R=radius,h=height)"
   ]
  },
  {
   "cell_type": "markdown",
   "metadata": {},
   "source": [
    "### Setup the photon physics ###"
   ]
  },
  {
   "cell_type": "code",
   "execution_count": 3,
   "metadata": {},
   "outputs": [],
   "source": [
    "# define the physics\n",
    "em = em_physics()"
   ]
  },
  {
   "cell_type": "markdown",
   "metadata": {},
   "source": [
    "### Event generation ###"
   ]
  },
  {
   "cell_type": "code",
   "execution_count": 11,
   "metadata": {},
   "outputs": [],
   "source": [
    "def generate_events(nevent,egamma,vrt,demax,nmax):\n",
    "    #\n",
    "    # output filename\n",
    "    #\n",
    "    \n",
    "    np.random.seed(123457)\n",
    "\n",
    "    \n",
    "    #write_mode = 'json'\n",
    "    write_mode = 'json'\n",
    "\n",
    "    #mcout = '../mcdata/mc_std_noecut_1M' + '.' + write_mode \n",
    "    if vrt == None:\n",
    "        mcout = '../mcdata/mc_'+str(vrt)+'_de'+str(demax)+'_N'+str(nevent) + '.' + write_mode \n",
    "    else:\n",
    "        mcout = '../mcdata/mc_'+str(vrt)+'_de'+str(demax)+'_N'+str(nevent) + '_nmax'+str(nmax)+'.' + write_mode \n",
    "\n",
    "\n",
    "    #\n",
    "    # open output data file\n",
    "    #\n",
    "    f = open(mcout,'w')\n",
    "    if write_mode == 'json':\n",
    "        f.write('[\\n')    \n",
    "    \n",
    "    #\n",
    "    # event generation loop\n",
    "    #\n",
    "    for ieve in range(nevent):\n",
    "\n",
    "        if ieve%25000 == 0:\n",
    "            print(\"generated \",ieve,\" events\")\n",
    "        #\n",
    "        # make a particle\n",
    "        #\n",
    "        p = particle(type='gamma',\n",
    "                     energy=egamma, \n",
    "                     geometry=cryostat, \n",
    "                     fiducial=fiducial, \n",
    "                     # vrt=None,\n",
    "                     vrt=vrt,\n",
    "                     edep_max=demax,\n",
    "                     nscatter_max=nmax,\n",
    "                     physics=em,\n",
    "                     debug=False)\n",
    "\n",
    "        #\n",
    "        # propagate the particle and retrieve the intersection points\n",
    "        #\n",
    "        p.propagate()\n",
    "\n",
    "        #\n",
    "        # store data\n",
    "        #\n",
    "        if write_mode == 'txt':\n",
    "            wstring = \"{:d} {:d} {:7.6e} {:7.6f} {:7.6f} {:7.6f} {:7.6f} \\n\".format(ieve,len(p.xint), \n",
    "                                                                                    p.weight,p.edep,\n",
    "                                                                                    p.x0start[0],p.x0start[1],p.x0start[2])\n",
    "            f.write(wstring)\n",
    "\n",
    "        for i in range(len(p.xint)):\n",
    "            #\n",
    "            # data structure for each energy deposit\n",
    "            #\n",
    "            if write_mode == 'json':\n",
    "                dd = {'x':p.xint[i][0][0],'y':p.xint[i][0][1],'z':p.xint[i][0][2],'de':p.xint[i][1],\n",
    "                      'w':p.weight,'n':p.nscatter}\n",
    "                json.dump(dd,f, sort_keys=True, indent=8)\n",
    "                f.write(',\\n')\n",
    "            else:\n",
    "                wstring = \"{:7.6f} {:7.6f} {:7.6f} {:7.6f} \\n\".format(p.xint[i][0][0],\n",
    "                                                                      p.xint[i][0][1],\n",
    "                                                                      p.xint[i][0][2],\n",
    "                                                                      p.xint[i][1])\n",
    "                f.write(wstring)\n",
    "\n",
    "    #\n",
    "    # close output data file\n",
    "    #\n",
    "    if write_mode == 'json':\n",
    "        f.write('{}]')\n",
    "    else:\n",
    "        f.write('-1\\n')\n",
    "\n",
    "    f.close()"
   ]
  },
  {
   "cell_type": "code",
   "execution_count": 12,
   "metadata": {},
   "outputs": [],
   "source": [
    "# !snakeviz my.profile"
   ]
  },
  {
   "cell_type": "code",
   "execution_count": 15,
   "metadata": {},
   "outputs": [
    {
     "name": "stdout",
     "output_type": "stream",
     "text": [
      "generated  0  events\n",
      "random =  0.8414104718886751\n",
      "random =  0.6552324999562392\n",
      "random =  0.8162186300691359\n",
      "random =  0.9885681151823003\n",
      "random =  0.6548383143920027\n",
      "random =  0.09164591828539925\n",
      "random =  0.8304492668021675\n"
     ]
    }
   ],
   "source": [
    "generate_events(10,2447.86, 'fiducial_scatter',2500.,2)"
   ]
  },
  {
   "cell_type": "code",
   "execution_count": 20,
   "metadata": {},
   "outputs": [
    {
     "name": "stdout",
     "output_type": "stream",
     "text": [
      "generated  0  events\n",
      "random =  0.9960838119932811\n",
      "random =  0.9678457592556462\n"
     ]
    }
   ],
   "source": [
    "generate_events(10,2447.86, None, 2500.,1)"
   ]
  },
  {
   "cell_type": "code",
   "execution_count": null,
   "metadata": {},
   "outputs": [],
   "source": []
  }
 ],
 "metadata": {
  "kernelspec": {
   "display_name": "Python 3",
   "language": "python",
   "name": "python3"
  },
  "language_info": {
   "codemirror_mode": {
    "name": "ipython",
    "version": 3
   },
   "file_extension": ".py",
   "mimetype": "text/x-python",
   "name": "python",
   "nbconvert_exporter": "python",
   "pygments_lexer": "ipython3",
   "version": "3.7.1"
  }
 },
 "nbformat": 4,
 "nbformat_minor": 2
}
