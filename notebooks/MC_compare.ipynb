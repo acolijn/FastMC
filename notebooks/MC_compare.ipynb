{
 "cells": [
  {
   "cell_type": "markdown",
   "metadata": {},
   "source": [
    "## Fast MC plotting ##"
   ]
  },
  {
   "cell_type": "code",
   "execution_count": 1,
   "metadata": {},
   "outputs": [],
   "source": [
    "import json\n",
    "import pandas as pd\n",
    "import numpy as np\n",
    "\n",
    "import matplotlib.pyplot as plt\n",
    "%matplotlib inline"
   ]
  },
  {
   "cell_type": "markdown",
   "metadata": {},
   "source": [
    "Load the .json file with the Monte Carlo result"
   ]
  },
  {
   "cell_type": "code",
   "execution_count": 17,
   "metadata": {},
   "outputs": [],
   "source": [
    "#df_vrt = pd.read_json('../mcdata/mc_vrt_noecut_1M.json').dropna()\n",
    "df_vrt = pd.read_json('Z:/acolijn/mcdata/mc_fiducial_scatter_de2500.0_N1000000_nmax2.json').dropna()\n",
    "#df_vrt_noform = pd.read_json('../mcdata/mc_reduce_variance_noform.json').dropna()\n",
    "df_std = pd.read_json('../../mcdata/mc_None_de2500.0_N100000.json').dropna()"
   ]
  },
  {
   "cell_type": "markdown",
   "metadata": {},
   "source": [
    "Plot the energy distribution for both the standard and for the accelerated MC. For the standard Monte Carlo the same fiducial cuts need to be applied as implemented in the accelerated version."
   ]
  },
  {
   "cell_type": "code",
   "execution_count": 20,
   "metadata": {},
   "outputs": [],
   "source": [
    "r2_std = df_std['x']**2+df_std['y']**2\n",
    "r2_vrt = df_vrt['x']**2+df_vrt['y']**2\n",
    "\n",
    "df_std_cut = df_std[(df_std['de']<2500) & (r2_std<49**2) & (np.abs(df_std['z'])<99./2.) & (df_std['n']==2)]  \n",
    "df_vrt_cut = df_vrt[(df_vrt['de']<2500) & (r2_vrt<49**2) & (np.abs(df_vrt['z'])<99./2.) & (df_vrt['n']==2)]  "
   ]
  },
  {
   "cell_type": "code",
   "execution_count": 22,
   "metadata": {},
   "outputs": [
    {
     "data": {
      "image/png": "[encoded data removed]",
      "text/plain": [
       "<Figure size 576x288 with 1 Axes>"
      ]
     },
     "metadata": {
      "needs_background": "light"
     },
     "output_type": "display_data"
    }
   ],
   "source": [
    "nb = 250\n",
    "plt.figure(figsize=(8,4))\n",
    "x_vrt=plt.hist(df_vrt_cut['de'],weights=df_vrt_cut['w'],bins=nb, range=(0,2500), histtype='step')\n",
    "x_std=plt.hist(df_std_cut['de'],weights=df_std_cut['w']*10,bins=nb, range=(0,2500), histtype='step')\n",
    "plt.xlim([0,2500])\n",
    "#plt.ylim([0,0.02])\n",
    "plt.legend(('VRT','standard'),loc='upper left')\n",
    "plt.xlabel('$E_{dep}$ in fiducial (keV)')\n",
    "plt.yscale('log')"
   ]
  },
  {
   "cell_type": "code",
   "execution_count": 111,
   "metadata": {},
   "outputs": [
    {
     "name": "stdout",
     "output_type": "stream",
     "text": [
      "standard MC total number of events 13037  variance =  56.991351063121854\n",
      "variance reduced total weight =  11578.119077320898  variance =  53.04331467509334\n",
      "variance ratio =  1.0744304237435283\n",
      "usefull events in accelerated MC =  88262\n",
      "acceleration factor =  6.770115824192683\n"
     ]
    }
   ],
   "source": [
    "print('standard MC total number of events',int(np.sum(df_std_cut['w'])), ' variance = ',x_std[0].std())\n",
    "print('variance reduced total weight = ',np.sum(df_vrt_cut['w']),' variance = ',x_vrt[0].std())\n",
    "print('variance ratio = ',x_std[0].std()/x_vrt[0].std())\n",
    "print('usefull events in accelerated MC = ',len(df_vrt_cut))\n",
    "print('acceleration factor = ',len(df_vrt_cut)/len(df_std_cut))"
   ]
  },
  {
   "cell_type": "code",
   "execution_count": 29,
   "metadata": {},
   "outputs": [
    {
     "ename": "NameError",
     "evalue": "name 'df_vrt_noform' is not defined",
     "output_type": "error",
     "traceback": [
      "\u001b[1;31m---------------------------------------------------------------------------\u001b[0m",
      "\u001b[1;31mNameError\u001b[0m                                 Traceback (most recent call last)",
      "\u001b[1;32m<ipython-input-29-142e8714fedd>\u001b[0m in \u001b[0;36m<module>\u001b[1;34m\u001b[0m\n\u001b[0;32m      2\u001b[0m \u001b[0mplt\u001b[0m\u001b[1;33m.\u001b[0m\u001b[0mfigure\u001b[0m\u001b[1;33m(\u001b[0m\u001b[0mfigsize\u001b[0m\u001b[1;33m=\u001b[0m\u001b[1;33m(\u001b[0m\u001b[1;36m8\u001b[0m\u001b[1;33m,\u001b[0m\u001b[1;36m4\u001b[0m\u001b[1;33m)\u001b[0m\u001b[1;33m)\u001b[0m\u001b[1;33m\u001b[0m\u001b[1;33m\u001b[0m\u001b[0m\n\u001b[0;32m      3\u001b[0m \u001b[0mplt\u001b[0m\u001b[1;33m.\u001b[0m\u001b[0mhist\u001b[0m\u001b[1;33m(\u001b[0m\u001b[0mdf_vrt\u001b[0m\u001b[1;33m[\u001b[0m\u001b[1;34m'de'\u001b[0m\u001b[1;33m]\u001b[0m\u001b[1;33m,\u001b[0m\u001b[0mweights\u001b[0m\u001b[1;33m=\u001b[0m\u001b[0mdf_vrt\u001b[0m\u001b[1;33m[\u001b[0m\u001b[1;34m'w'\u001b[0m\u001b[1;33m]\u001b[0m\u001b[1;33m,\u001b[0m\u001b[0mbins\u001b[0m\u001b[1;33m=\u001b[0m\u001b[0mnb\u001b[0m\u001b[1;33m,\u001b[0m \u001b[0mhisttype\u001b[0m\u001b[1;33m=\u001b[0m\u001b[1;34m'step'\u001b[0m\u001b[1;33m,\u001b[0m \u001b[0mcolor\u001b[0m\u001b[1;33m=\u001b[0m\u001b[1;34m'blue'\u001b[0m\u001b[1;33m)\u001b[0m\u001b[1;33m\u001b[0m\u001b[1;33m\u001b[0m\u001b[0m\n\u001b[1;32m----> 4\u001b[1;33m \u001b[0mplt\u001b[0m\u001b[1;33m.\u001b[0m\u001b[0mhist\u001b[0m\u001b[1;33m(\u001b[0m\u001b[0mdf_vrt_noform\u001b[0m\u001b[1;33m[\u001b[0m\u001b[1;34m'de'\u001b[0m\u001b[1;33m]\u001b[0m\u001b[1;33m,\u001b[0m\u001b[0mweights\u001b[0m\u001b[1;33m=\u001b[0m\u001b[0mdf_vrt_noform\u001b[0m\u001b[1;33m[\u001b[0m\u001b[1;34m'w'\u001b[0m\u001b[1;33m]\u001b[0m\u001b[1;33m,\u001b[0m\u001b[0mbins\u001b[0m\u001b[1;33m=\u001b[0m\u001b[0mnb\u001b[0m\u001b[1;33m,\u001b[0m \u001b[0mhisttype\u001b[0m\u001b[1;33m=\u001b[0m\u001b[1;34m'step'\u001b[0m\u001b[1;33m,\u001b[0m \u001b[0mcolor\u001b[0m\u001b[1;33m=\u001b[0m\u001b[1;34m'green'\u001b[0m\u001b[1;33m,\u001b[0m \u001b[0mlinestyle\u001b[0m\u001b[1;33m=\u001b[0m\u001b[1;34m'dashed'\u001b[0m\u001b[1;33m)\u001b[0m\u001b[1;33m\u001b[0m\u001b[1;33m\u001b[0m\u001b[0m\n\u001b[0m\u001b[0;32m      5\u001b[0m \u001b[1;33m\u001b[0m\u001b[0m\n\u001b[0;32m      6\u001b[0m \u001b[0mplt\u001b[0m\u001b[1;33m.\u001b[0m\u001b[0mxlabel\u001b[0m\u001b[1;33m(\u001b[0m\u001b[1;34m'$E_{dep}$ in fiducial (keV)'\u001b[0m\u001b[1;33m)\u001b[0m\u001b[1;33m\u001b[0m\u001b[1;33m\u001b[0m\u001b[0m\n",
      "\u001b[1;31mNameError\u001b[0m: name 'df_vrt_noform' is not defined"
     ]
    },
    {
     "data": {
      "image/png": "[encoded data removed]",
      "text/plain": [
       "<Figure size 576x288 with 1 Axes>"
      ]
     },
     "metadata": {
      "needs_background": "light"
     },
     "output_type": "display_data"
    }
   ],
   "source": [
    "nb = 50\n",
    "plt.figure(figsize=(8,4))\n",
    "plt.hist(df_vrt['de'],weights=df_vrt['w'],bins=nb, histtype='step', color='blue')\n",
    "plt.hist(df_vrt_noform['de'],weights=df_vrt_noform['w'],bins=nb, histtype='step', color='green', linestyle='dashed')\n",
    "\n",
    "plt.xlabel('$E_{dep}$ in fiducial (keV)')\n",
    "plt.yscale('log')\n",
    "plt.legend(('with form factor','without form factor'))"
   ]
  },
  {
   "cell_type": "code",
   "execution_count": null,
   "metadata": {},
   "outputs": [],
   "source": []
  }
 ],
 "metadata": {
  "kernelspec": {
   "display_name": "Python 3",
   "language": "python",
   "name": "python3"
  },
  "language_info": {
   "codemirror_mode": {
    "name": "ipython",
    "version": 3
   },
   "file_extension": ".py",
   "mimetype": "text/x-python",
   "name": "python",
   "nbconvert_exporter": "python",
   "pygments_lexer": "ipython3",
   "version": "3.7.1"
  }
 },
 "nbformat": 4,
 "nbformat_minor": 2
}
